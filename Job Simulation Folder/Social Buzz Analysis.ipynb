{
 "cells": [
  {
   "cell_type": "markdown",
   "id": "774cbfe0",
   "metadata": {},
   "source": [
    "# Social Buzz Analysis with exploratory data analysis"
   ]
  },
  {
   "cell_type": "markdown",
   "id": "49bf050c",
   "metadata": {},
   "source": [
    "First Step import Libraries"
   ]
  },
  {
   "cell_type": "code",
   "execution_count": 58,
   "id": "2df1b965",
   "metadata": {},
   "outputs": [],
   "source": [
    "import numpy as np \n",
    "import pandas as pd \n",
    "import seaborn as sns\n",
    "import matplotlib.pyplot as plt"
   ]
  },
  {
   "cell_type": "markdown",
   "id": "719f9ce0",
   "metadata": {},
   "source": [
    "Import content csv data file"
   ]
  },
  {
   "cell_type": "code",
   "execution_count": 3,
   "id": "9f86da63",
   "metadata": {},
   "outputs": [],
   "source": [
    "content = pd.read_csv('Content (1).csv')"
   ]
  },
  {
   "cell_type": "code",
   "execution_count": 4,
   "id": "5129b5c2",
   "metadata": {},
   "outputs": [
    {
     "name": "stdout",
     "output_type": "stream",
     "text": [
      "<class 'pandas.core.frame.DataFrame'>\n",
      "RangeIndex: 1000 entries, 0 to 999\n",
      "Data columns (total 6 columns):\n",
      " #   Column      Non-Null Count  Dtype \n",
      "---  ------      --------------  ----- \n",
      " 0   Unnamed: 0  1000 non-null   int64 \n",
      " 1   Content ID  1000 non-null   object\n",
      " 2   User ID     1000 non-null   object\n",
      " 3   Type        1000 non-null   object\n",
      " 4   Category    1000 non-null   object\n",
      " 5   URL         801 non-null    object\n",
      "dtypes: int64(1), object(5)\n",
      "memory usage: 47.0+ KB\n"
     ]
    }
   ],
   "source": [
    "content.info()"
   ]
  },
  {
   "cell_type": "markdown",
   "id": "a1ccd264",
   "metadata": {},
   "source": [
    "First, we removed the User ID and URL columns since they're unnecessary for our analysis. Then, we examined the values in the\n",
    "category column to ensure they're appropriate and coherent within the context of our dataset."
   ]
  },
  {
   "cell_type": "markdown",
   "id": "c24d515a",
   "metadata": {},
   "source": [
    "# Data Cleaning"
   ]
  },
  {
   "cell_type": "code",
   "execution_count": 5,
   "id": "e04bbf57",
   "metadata": {},
   "outputs": [],
   "source": [
    "content.drop(labels=['User ID','URL'],axis=1,inplace=True)\n"
   ]
  },
  {
   "cell_type": "code",
   "execution_count": 6,
   "id": "928548aa",
   "metadata": {},
   "outputs": [
    {
     "name": "stdout",
     "output_type": "stream",
     "text": [
      "<class 'pandas.core.frame.DataFrame'>\n",
      "RangeIndex: 1000 entries, 0 to 999\n",
      "Data columns (total 4 columns):\n",
      " #   Column      Non-Null Count  Dtype \n",
      "---  ------      --------------  ----- \n",
      " 0   Unnamed: 0  1000 non-null   int64 \n",
      " 1   Content ID  1000 non-null   object\n",
      " 2   Type        1000 non-null   object\n",
      " 3   Category    1000 non-null   object\n",
      "dtypes: int64(1), object(3)\n",
      "memory usage: 31.4+ KB\n"
     ]
    }
   ],
   "source": [
    "content.info()"
   ]
  },
  {
   "cell_type": "code",
   "execution_count": 7,
   "id": "37af79fc",
   "metadata": {},
   "outputs": [
    {
     "data": {
      "text/plain": [
       "Category\n",
       "technology           71\n",
       "animals              67\n",
       "travel               67\n",
       "culture              63\n",
       "science              63\n",
       "fitness              61\n",
       "food                 61\n",
       "healthy eating       61\n",
       "cooking              60\n",
       "soccer               58\n",
       "tennis               58\n",
       "education            57\n",
       "dogs                 56\n",
       "studying             55\n",
       "veganism             48\n",
       "public speaking      48\n",
       "Fitness               5\n",
       "Animals               4\n",
       "Science               4\n",
       "\"soccer\"              3\n",
       "\"culture\"             3\n",
       "Soccer                3\n",
       "\"dogs\"                2\n",
       "Education             2\n",
       "Studying              2\n",
       "Travel                2\n",
       "Food                  2\n",
       "\"veganism\"            1\n",
       "\"public speaking\"     1\n",
       "Public Speaking       1\n",
       "\"technology\"          1\n",
       "\"cooking\"             1\n",
       "Healthy Eating        1\n",
       "\"studying\"            1\n",
       "\"food\"                1\n",
       "Culture               1\n",
       "\"tennis\"              1\n",
       "Technology            1\n",
       "\"animals\"             1\n",
       "Veganism              1\n",
       "\"science\"             1\n",
       "Name: count, dtype: int64"
      ]
     },
     "execution_count": 7,
     "metadata": {},
     "output_type": "execute_result"
    }
   ],
   "source": [
    "content['Category'].value_counts()\n"
   ]
  },
  {
   "cell_type": "markdown",
   "id": "d55b6385",
   "metadata": {},
   "source": [
    "We're refining the categories by eliminating punctuation and standardizing capitalization for consistency."
   ]
  },
  {
   "cell_type": "code",
   "execution_count": 9,
   "id": "b0cb621e",
   "metadata": {},
   "outputs": [],
   "source": [
    "#strip quote mark and lowercase all values\n",
    "content['Category'] = content['Category'].apply(lambda x:x.strip('\"').lower())\n",
    "     "
   ]
  },
  {
   "cell_type": "code",
   "execution_count": 10,
   "id": "6d618f4d",
   "metadata": {},
   "outputs": [
    {
     "data": {
      "text/plain": [
       "Category\n",
       "technology         73\n",
       "animals            72\n",
       "travel             69\n",
       "science            68\n",
       "culture            67\n",
       "fitness            66\n",
       "food               64\n",
       "soccer             64\n",
       "healthy eating     62\n",
       "cooking            61\n",
       "tennis             59\n",
       "education          59\n",
       "studying           58\n",
       "dogs               58\n",
       "public speaking    50\n",
       "veganism           50\n",
       "Name: count, dtype: int64"
      ]
     },
     "execution_count": 10,
     "metadata": {},
     "output_type": "execute_result"
    }
   ],
   "source": [
    "#check if all categories are in lower case\n",
    "content['Category'].value_counts()\n",
    "     "
   ]
  },
  {
   "cell_type": "code",
   "execution_count": 11,
   "id": "9d960dc4",
   "metadata": {},
   "outputs": [
    {
     "data": {
      "text/plain": [
       "Content_Type\n",
       "photo    261\n",
       "video    259\n",
       "GIF      244\n",
       "audio    236\n",
       "Name: count, dtype: int64"
      ]
     },
     "execution_count": 11,
     "metadata": {},
     "output_type": "execute_result"
    }
   ],
   "source": [
    "#rename content to content_type\n",
    "content.rename(columns={'Type':'Content_Type'},inplace=True)\n",
    "content['Content_Type'].value_counts()"
   ]
  },
  {
   "cell_type": "markdown",
   "id": "4a271199",
   "metadata": {},
   "source": [
    "Import reaction csv data file"
   ]
  },
  {
   "cell_type": "code",
   "execution_count": 13,
   "id": "20b68ed6",
   "metadata": {},
   "outputs": [],
   "source": [
    "reaction = pd.read_csv('Reactions (1).csv')"
   ]
  },
  {
   "cell_type": "code",
   "execution_count": 15,
   "id": "b6959b54",
   "metadata": {
    "scrolled": true
   },
   "outputs": [
    {
     "data": {
      "text/html": [
       "<div>\n",
       "<style scoped>\n",
       "    .dataframe tbody tr th:only-of-type {\n",
       "        vertical-align: middle;\n",
       "    }\n",
       "\n",
       "    .dataframe tbody tr th {\n",
       "        vertical-align: top;\n",
       "    }\n",
       "\n",
       "    .dataframe thead th {\n",
       "        text-align: right;\n",
       "    }\n",
       "</style>\n",
       "<table border=\"1\" class=\"dataframe\">\n",
       "  <thead>\n",
       "    <tr style=\"text-align: right;\">\n",
       "      <th></th>\n",
       "      <th>Unnamed: 0</th>\n",
       "      <th>Content ID</th>\n",
       "      <th>User ID</th>\n",
       "      <th>Type</th>\n",
       "      <th>Datetime</th>\n",
       "    </tr>\n",
       "  </thead>\n",
       "  <tbody>\n",
       "    <tr>\n",
       "      <th>1909</th>\n",
       "      <td>1909</td>\n",
       "      <td>409aa11d-5af3-4a70-9da1-482857f5835e</td>\n",
       "      <td>ddc4db8e-0000-48c4-8fdb-d32af87fb823</td>\n",
       "      <td>intrigued</td>\n",
       "      <td>2020-12-26 14:51:03</td>\n",
       "    </tr>\n",
       "    <tr>\n",
       "      <th>13280</th>\n",
       "      <td>13280</td>\n",
       "      <td>2073855c-fab2-41ee-ad15-d4269b2ac4bd</td>\n",
       "      <td>e89d4cb0-3bec-43b8-8060-719983fe68a9</td>\n",
       "      <td>super love</td>\n",
       "      <td>2020-08-15 07:03:46</td>\n",
       "    </tr>\n",
       "    <tr>\n",
       "      <th>12693</th>\n",
       "      <td>12693</td>\n",
       "      <td>301cfd14-3e4f-4058-b253-c591ef150888</td>\n",
       "      <td>30be2156-59d1-451e-beea-1a3690200a2b</td>\n",
       "      <td>interested</td>\n",
       "      <td>2021-02-23 16:29:08</td>\n",
       "    </tr>\n",
       "  </tbody>\n",
       "</table>\n",
       "</div>"
      ],
      "text/plain": [
       "       Unnamed: 0                            Content ID  \\\n",
       "1909         1909  409aa11d-5af3-4a70-9da1-482857f5835e   \n",
       "13280       13280  2073855c-fab2-41ee-ad15-d4269b2ac4bd   \n",
       "12693       12693  301cfd14-3e4f-4058-b253-c591ef150888   \n",
       "\n",
       "                                    User ID        Type             Datetime  \n",
       "1909   ddc4db8e-0000-48c4-8fdb-d32af87fb823   intrigued  2020-12-26 14:51:03  \n",
       "13280  e89d4cb0-3bec-43b8-8060-719983fe68a9  super love  2020-08-15 07:03:46  \n",
       "12693  30be2156-59d1-451e-beea-1a3690200a2b  interested  2021-02-23 16:29:08  "
      ]
     },
     "execution_count": 15,
     "metadata": {},
     "output_type": "execute_result"
    }
   ],
   "source": [
    "reaction.sample(3)"
   ]
  },
  {
   "cell_type": "code",
   "execution_count": null,
   "id": "c8488982",
   "metadata": {},
   "outputs": [],
   "source": [
    "# drop user ID column\n",
    "reaction.drop(labels = ['User ID'],axis=1,inplace=True)\n",
    "     "
   ]
  },
  {
   "cell_type": "code",
   "execution_count": 69,
   "id": "78cf3e39",
   "metadata": {},
   "outputs": [],
   "source": [
    "reaction.drop(labels = ['Datetime'],axis=1,inplace=True)\n"
   ]
  },
  {
   "cell_type": "code",
   "execution_count": 70,
   "id": "ba253906",
   "metadata": {},
   "outputs": [
    {
     "name": "stdout",
     "output_type": "stream",
     "text": [
      "<class 'pandas.core.frame.DataFrame'>\n",
      "Index: 24573 entries, 1 to 25552\n",
      "Data columns (total 2 columns):\n",
      " #   Column         Non-Null Count  Dtype \n",
      "---  ------         --------------  ----- \n",
      " 0   Content ID     24573 non-null  object\n",
      " 1   Reaction_Type  24573 non-null  object\n",
      "dtypes: object(2)\n",
      "memory usage: 575.9+ KB\n"
     ]
    }
   ],
   "source": [
    "reaction.info()"
   ]
  },
  {
   "cell_type": "markdown",
   "id": "ef5eb649",
   "metadata": {},
   "source": [
    "We'll start by removing the User ID  and Datetime column. Then, we'll drop any rows that have missing values.Lastly, we'll rename the \"Type\" column to match the changes we made for the Content table."
   ]
  },
  {
   "cell_type": "code",
   "execution_count": 25,
   "id": "d4ef2015",
   "metadata": {},
   "outputs": [],
   "source": [
    "#drop rows with missing values\n",
    "reaction.dropna(inplace=True)"
   ]
  },
  {
   "cell_type": "code",
   "execution_count": 27,
   "id": "49136bd3",
   "metadata": {},
   "outputs": [],
   "source": [
    "#rename column\n",
    "reaction.rename(columns={\"Type\":'Reaction_Type'},inplace=True)\n",
    "     "
   ]
  },
  {
   "cell_type": "code",
   "execution_count": 71,
   "id": "5105c091",
   "metadata": {},
   "outputs": [
    {
     "name": "stdout",
     "output_type": "stream",
     "text": [
      "<class 'pandas.core.frame.DataFrame'>\n",
      "Index: 24573 entries, 1 to 25552\n",
      "Data columns (total 2 columns):\n",
      " #   Column         Non-Null Count  Dtype \n",
      "---  ------         --------------  ----- \n",
      " 0   Content ID     24573 non-null  object\n",
      " 1   Reaction_Type  24573 non-null  object\n",
      "dtypes: object(2)\n",
      "memory usage: 575.9+ KB\n"
     ]
    }
   ],
   "source": [
    "reaction.info()"
   ]
  },
  {
   "cell_type": "markdown",
   "id": "595ab5ba",
   "metadata": {},
   "source": [
    "Import reactiontypes csv data file"
   ]
  },
  {
   "cell_type": "code",
   "execution_count": 42,
   "id": "ca7c2610",
   "metadata": {},
   "outputs": [],
   "source": [
    "reactiontype = pd.read_csv('ReactionTypes (1).csv')"
   ]
  },
  {
   "cell_type": "code",
   "execution_count": 43,
   "id": "b849df01",
   "metadata": {},
   "outputs": [
    {
     "data": {
      "text/html": [
       "<div>\n",
       "<style scoped>\n",
       "    .dataframe tbody tr th:only-of-type {\n",
       "        vertical-align: middle;\n",
       "    }\n",
       "\n",
       "    .dataframe tbody tr th {\n",
       "        vertical-align: top;\n",
       "    }\n",
       "\n",
       "    .dataframe thead th {\n",
       "        text-align: right;\n",
       "    }\n",
       "</style>\n",
       "<table border=\"1\" class=\"dataframe\">\n",
       "  <thead>\n",
       "    <tr style=\"text-align: right;\">\n",
       "      <th></th>\n",
       "      <th>Unnamed: 0</th>\n",
       "      <th>Type</th>\n",
       "      <th>Sentiment</th>\n",
       "      <th>Score</th>\n",
       "    </tr>\n",
       "  </thead>\n",
       "  <tbody>\n",
       "    <tr>\n",
       "      <th>12</th>\n",
       "      <td>12</td>\n",
       "      <td>intrigued</td>\n",
       "      <td>positive</td>\n",
       "      <td>45</td>\n",
       "    </tr>\n",
       "    <tr>\n",
       "      <th>3</th>\n",
       "      <td>3</td>\n",
       "      <td>hate</td>\n",
       "      <td>negative</td>\n",
       "      <td>5</td>\n",
       "    </tr>\n",
       "    <tr>\n",
       "      <th>0</th>\n",
       "      <td>0</td>\n",
       "      <td>heart</td>\n",
       "      <td>positive</td>\n",
       "      <td>60</td>\n",
       "    </tr>\n",
       "  </tbody>\n",
       "</table>\n",
       "</div>"
      ],
      "text/plain": [
       "    Unnamed: 0       Type Sentiment  Score\n",
       "12          12  intrigued  positive     45\n",
       "3            3       hate  negative      5\n",
       "0            0      heart  positive     60"
      ]
     },
     "execution_count": 43,
     "metadata": {},
     "output_type": "execute_result"
    }
   ],
   "source": [
    "reactiontype.sample(3)"
   ]
  },
  {
   "cell_type": "code",
   "execution_count": 47,
   "id": "394b60e3",
   "metadata": {
    "scrolled": true
   },
   "outputs": [
    {
     "name": "stdout",
     "output_type": "stream",
     "text": [
      "<class 'pandas.core.frame.DataFrame'>\n",
      "RangeIndex: 16 entries, 0 to 15\n",
      "Data columns (total 4 columns):\n",
      " #   Column         Non-Null Count  Dtype \n",
      "---  ------         --------------  ----- \n",
      " 0   Unnamed: 0     16 non-null     int64 \n",
      " 1   Reaction_Type  16 non-null     object\n",
      " 2   Sentiment      16 non-null     object\n",
      " 3   Score          16 non-null     int64 \n",
      "dtypes: int64(2), object(2)\n",
      "memory usage: 644.0+ bytes\n"
     ]
    }
   ],
   "source": [
    "#rename type column\n",
    "reactiontype.rename(columns={'Type':'Reaction_Type'},inplace=True)\n",
    "reactiontype.info()"
   ]
  },
  {
   "cell_type": "code",
   "execution_count": 52,
   "id": "91cbbd25",
   "metadata": {},
   "outputs": [
    {
     "name": "stdout",
     "output_type": "stream",
     "text": [
      "  Reaction_Type Sentiment  Score\n",
      "0         heart  positive     60\n",
      "1          want  positive     70\n",
      "2       disgust  negative      0\n",
      "3          hate  negative      5\n",
      "4    interested  positive     30\n"
     ]
    }
   ],
   "source": [
    "reactiontype = reactiontype.drop(\"Unnamed: 0\",axis = 1)\n",
    "print(reactiontype.head())"
   ]
  },
  {
   "cell_type": "code",
   "execution_count": 53,
   "id": "85c09004",
   "metadata": {},
   "outputs": [
    {
     "name": "stdout",
     "output_type": "stream",
     "text": [
      "<class 'pandas.core.frame.DataFrame'>\n",
      "RangeIndex: 16 entries, 0 to 15\n",
      "Data columns (total 3 columns):\n",
      " #   Column         Non-Null Count  Dtype \n",
      "---  ------         --------------  ----- \n",
      " 0   Reaction_Type  16 non-null     object\n",
      " 1   Sentiment      16 non-null     object\n",
      " 2   Score          16 non-null     int64 \n",
      "dtypes: int64(1), object(2)\n",
      "memory usage: 516.0+ bytes\n"
     ]
    }
   ],
   "source": [
    "reactiontype.info()"
   ]
  },
  {
   "cell_type": "code",
   "execution_count": 54,
   "id": "bf9bb6d8",
   "metadata": {},
   "outputs": [
    {
     "data": {
      "text/plain": [
       "Reaction_Type  Sentiment  Score\n",
       "adore          positive   72       1\n",
       "cherish        positive   70       1\n",
       "disgust        negative   0        1\n",
       "dislike        negative   10       1\n",
       "hate           negative   5        1\n",
       "heart          positive   60       1\n",
       "indifferent    neutral    20       1\n",
       "interested     positive   30       1\n",
       "intrigued      positive   45       1\n",
       "like           positive   50       1\n",
       "love           positive   65       1\n",
       "peeking        neutral    35       1\n",
       "scared         negative   15       1\n",
       "super love     positive   75       1\n",
       "want           positive   70       1\n",
       "worried        negative   12       1\n",
       "Name: count, dtype: int64"
      ]
     },
     "execution_count": 54,
     "metadata": {},
     "output_type": "execute_result"
    }
   ],
   "source": [
    "reactiontype.value_counts()\n",
    "     "
   ]
  },
  {
   "cell_type": "markdown",
   "id": "e11d4799",
   "metadata": {},
   "source": [
    "Our data has undergone thorough cleaning according to the client's requirements. We removed rows containing missing values, dropped unnecessary columns, and ensured that the data types of each column match their respective values."
   ]
  },
  {
   "cell_type": "markdown",
   "id": "723d1774",
   "metadata": {},
   "source": [
    "# Data Modelling"
   ]
  },
  {
   "cell_type": "markdown",
   "id": "9ba16ed1",
   "metadata": {},
   "source": [
    "# Creating a joined table for analysis"
   ]
  },
  {
   "cell_type": "code",
   "execution_count": 55,
   "id": "97dd50f9",
   "metadata": {},
   "outputs": [
    {
     "data": {
      "text/html": [
       "<div>\n",
       "<style scoped>\n",
       "    .dataframe tbody tr th:only-of-type {\n",
       "        vertical-align: middle;\n",
       "    }\n",
       "\n",
       "    .dataframe tbody tr th {\n",
       "        vertical-align: top;\n",
       "    }\n",
       "\n",
       "    .dataframe thead th {\n",
       "        text-align: right;\n",
       "    }\n",
       "</style>\n",
       "<table border=\"1\" class=\"dataframe\">\n",
       "  <thead>\n",
       "    <tr style=\"text-align: right;\">\n",
       "      <th></th>\n",
       "      <th>Content ID</th>\n",
       "      <th>Reaction_Type</th>\n",
       "      <th>Datetime</th>\n",
       "    </tr>\n",
       "  </thead>\n",
       "  <tbody>\n",
       "    <tr>\n",
       "      <th>1</th>\n",
       "      <td>97522e57-d9ab-4bd6-97bf-c24d952602d2</td>\n",
       "      <td>disgust</td>\n",
       "      <td>2020-11-07 09:43:50</td>\n",
       "    </tr>\n",
       "    <tr>\n",
       "      <th>2</th>\n",
       "      <td>97522e57-d9ab-4bd6-97bf-c24d952602d2</td>\n",
       "      <td>dislike</td>\n",
       "      <td>2021-06-17 12:22:51</td>\n",
       "    </tr>\n",
       "    <tr>\n",
       "      <th>3</th>\n",
       "      <td>97522e57-d9ab-4bd6-97bf-c24d952602d2</td>\n",
       "      <td>scared</td>\n",
       "      <td>2021-04-18 05:13:58</td>\n",
       "    </tr>\n",
       "    <tr>\n",
       "      <th>4</th>\n",
       "      <td>97522e57-d9ab-4bd6-97bf-c24d952602d2</td>\n",
       "      <td>disgust</td>\n",
       "      <td>2021-01-06 19:13:01</td>\n",
       "    </tr>\n",
       "    <tr>\n",
       "      <th>5</th>\n",
       "      <td>97522e57-d9ab-4bd6-97bf-c24d952602d2</td>\n",
       "      <td>interested</td>\n",
       "      <td>2020-08-23 12:25:58</td>\n",
       "    </tr>\n",
       "  </tbody>\n",
       "</table>\n",
       "</div>"
      ],
      "text/plain": [
       "                             Content ID Reaction_Type            Datetime\n",
       "1  97522e57-d9ab-4bd6-97bf-c24d952602d2       disgust 2020-11-07 09:43:50\n",
       "2  97522e57-d9ab-4bd6-97bf-c24d952602d2       dislike 2021-06-17 12:22:51\n",
       "3  97522e57-d9ab-4bd6-97bf-c24d952602d2        scared 2021-04-18 05:13:58\n",
       "4  97522e57-d9ab-4bd6-97bf-c24d952602d2       disgust 2021-01-06 19:13:01\n",
       "5  97522e57-d9ab-4bd6-97bf-c24d952602d2    interested 2020-08-23 12:25:58"
      ]
     },
     "execution_count": 55,
     "metadata": {},
     "output_type": "execute_result"
    }
   ],
   "source": [
    "#To merge the data sets, we are going to have to rename either one of the colums from reactions or reactionsType to make it easy to merge\n",
    "# renaming the 'Reaction Type' column to 'Type'\n",
    "reaction = reaction.rename(columns={'Reaction Type': 'Type'})\n",
    "reaction.head(5)"
   ]
  },
  {
   "cell_type": "code",
   "execution_count": 73,
   "id": "ad8dfc21",
   "metadata": {},
   "outputs": [
    {
     "data": {
      "text/html": [
       "<div>\n",
       "<style scoped>\n",
       "    .dataframe tbody tr th:only-of-type {\n",
       "        vertical-align: middle;\n",
       "    }\n",
       "\n",
       "    .dataframe tbody tr th {\n",
       "        vertical-align: top;\n",
       "    }\n",
       "\n",
       "    .dataframe thead th {\n",
       "        text-align: right;\n",
       "    }\n",
       "</style>\n",
       "<table border=\"1\" class=\"dataframe\">\n",
       "  <thead>\n",
       "    <tr style=\"text-align: right;\">\n",
       "      <th></th>\n",
       "      <th>Content ID</th>\n",
       "      <th>Content_Type</th>\n",
       "      <th>Category</th>\n",
       "      <th>Reaction_Type</th>\n",
       "      <th>Sentiment</th>\n",
       "      <th>Score</th>\n",
       "    </tr>\n",
       "  </thead>\n",
       "  <tbody>\n",
       "    <tr>\n",
       "      <th>0</th>\n",
       "      <td>97522e57-d9ab-4bd6-97bf-c24d952602d2</td>\n",
       "      <td>photo</td>\n",
       "      <td>studying</td>\n",
       "      <td>disgust</td>\n",
       "      <td>negative</td>\n",
       "      <td>0</td>\n",
       "    </tr>\n",
       "    <tr>\n",
       "      <th>1</th>\n",
       "      <td>97522e57-d9ab-4bd6-97bf-c24d952602d2</td>\n",
       "      <td>photo</td>\n",
       "      <td>studying</td>\n",
       "      <td>disgust</td>\n",
       "      <td>negative</td>\n",
       "      <td>0</td>\n",
       "    </tr>\n",
       "    <tr>\n",
       "      <th>2</th>\n",
       "      <td>97522e57-d9ab-4bd6-97bf-c24d952602d2</td>\n",
       "      <td>photo</td>\n",
       "      <td>studying</td>\n",
       "      <td>disgust</td>\n",
       "      <td>negative</td>\n",
       "      <td>0</td>\n",
       "    </tr>\n",
       "    <tr>\n",
       "      <th>3</th>\n",
       "      <td>9f737e0a-3cdd-4d29-9d24-753f4e3be810</td>\n",
       "      <td>photo</td>\n",
       "      <td>healthy eating</td>\n",
       "      <td>disgust</td>\n",
       "      <td>negative</td>\n",
       "      <td>0</td>\n",
       "    </tr>\n",
       "    <tr>\n",
       "      <th>4</th>\n",
       "      <td>230c4e4d-70c3-461d-b42c-ec09396efb3f</td>\n",
       "      <td>photo</td>\n",
       "      <td>healthy eating</td>\n",
       "      <td>disgust</td>\n",
       "      <td>negative</td>\n",
       "      <td>0</td>\n",
       "    </tr>\n",
       "  </tbody>\n",
       "</table>\n",
       "</div>"
      ],
      "text/plain": [
       "                             Content ID Content_Type        Category  \\\n",
       "0  97522e57-d9ab-4bd6-97bf-c24d952602d2        photo        studying   \n",
       "1  97522e57-d9ab-4bd6-97bf-c24d952602d2        photo        studying   \n",
       "2  97522e57-d9ab-4bd6-97bf-c24d952602d2        photo        studying   \n",
       "3  9f737e0a-3cdd-4d29-9d24-753f4e3be810        photo  healthy eating   \n",
       "4  230c4e4d-70c3-461d-b42c-ec09396efb3f        photo  healthy eating   \n",
       "\n",
       "  Reaction_Type Sentiment  Score  \n",
       "0       disgust  negative      0  \n",
       "1       disgust  negative      0  \n",
       "2       disgust  negative      0  \n",
       "3       disgust  negative      0  \n",
       "4       disgust  negative      0  "
      ]
     },
     "execution_count": 73,
     "metadata": {},
     "output_type": "execute_result"
    }
   ],
   "source": [
    "# Merging content_data and reactions_data on Content ID\n",
    "merged_data = pd.merge(content, reaction, on='Content ID')\n",
    "\n",
    "# merge merged_data and reaction_types_data on Type\n",
    "final_data = pd.merge(merged_data, reactiontype, on='Reaction_Type')\n",
    "\n",
    "# display the final merged data set\n",
    "final_data.head()\n",
    "     "
   ]
  },
  {
   "cell_type": "code",
   "execution_count": 74,
   "id": "c0120828",
   "metadata": {},
   "outputs": [
    {
     "data": {
      "text/plain": [
       "(24573, 6)"
      ]
     },
     "execution_count": 74,
     "metadata": {},
     "output_type": "execute_result"
    }
   ],
   "source": [
    "final_data.shape"
   ]
  },
  {
   "cell_type": "code",
   "execution_count": 75,
   "id": "43484475",
   "metadata": {},
   "outputs": [
    {
     "name": "stdout",
     "output_type": "stream",
     "text": [
      "<class 'pandas.core.frame.DataFrame'>\n",
      "RangeIndex: 24573 entries, 0 to 24572\n",
      "Data columns (total 6 columns):\n",
      " #   Column         Non-Null Count  Dtype \n",
      "---  ------         --------------  ----- \n",
      " 0   Content ID     24573 non-null  object\n",
      " 1   Content_Type   24573 non-null  object\n",
      " 2   Category       24573 non-null  object\n",
      " 3   Reaction_Type  24573 non-null  object\n",
      " 4   Sentiment      24573 non-null  object\n",
      " 5   Score          24573 non-null  int64 \n",
      "dtypes: int64(1), object(5)\n",
      "memory usage: 1.1+ MB\n"
     ]
    }
   ],
   "source": [
    "final_data.info()"
   ]
  },
  {
   "cell_type": "code",
   "execution_count": 76,
   "id": "4ffb3056",
   "metadata": {},
   "outputs": [
    {
     "data": {
      "text/html": [
       "<div>\n",
       "<style scoped>\n",
       "    .dataframe tbody tr th:only-of-type {\n",
       "        vertical-align: middle;\n",
       "    }\n",
       "\n",
       "    .dataframe tbody tr th {\n",
       "        vertical-align: top;\n",
       "    }\n",
       "\n",
       "    .dataframe thead th {\n",
       "        text-align: right;\n",
       "    }\n",
       "</style>\n",
       "<table border=\"1\" class=\"dataframe\">\n",
       "  <thead>\n",
       "    <tr style=\"text-align: right;\">\n",
       "      <th></th>\n",
       "      <th>Score</th>\n",
       "    </tr>\n",
       "  </thead>\n",
       "  <tbody>\n",
       "    <tr>\n",
       "      <th>count</th>\n",
       "      <td>24573.000000</td>\n",
       "    </tr>\n",
       "    <tr>\n",
       "      <th>mean</th>\n",
       "      <td>39.622553</td>\n",
       "    </tr>\n",
       "    <tr>\n",
       "      <th>std</th>\n",
       "      <td>26.043011</td>\n",
       "    </tr>\n",
       "    <tr>\n",
       "      <th>min</th>\n",
       "      <td>0.000000</td>\n",
       "    </tr>\n",
       "    <tr>\n",
       "      <th>25%</th>\n",
       "      <td>15.000000</td>\n",
       "    </tr>\n",
       "    <tr>\n",
       "      <th>50%</th>\n",
       "      <td>35.000000</td>\n",
       "    </tr>\n",
       "    <tr>\n",
       "      <th>75%</th>\n",
       "      <td>65.000000</td>\n",
       "    </tr>\n",
       "    <tr>\n",
       "      <th>max</th>\n",
       "      <td>75.000000</td>\n",
       "    </tr>\n",
       "  </tbody>\n",
       "</table>\n",
       "</div>"
      ],
      "text/plain": [
       "              Score\n",
       "count  24573.000000\n",
       "mean      39.622553\n",
       "std       26.043011\n",
       "min        0.000000\n",
       "25%       15.000000\n",
       "50%       35.000000\n",
       "75%       65.000000\n",
       "max       75.000000"
      ]
     },
     "execution_count": 76,
     "metadata": {},
     "output_type": "execute_result"
    }
   ],
   "source": [
    "final_data.describe()"
   ]
  },
  {
   "cell_type": "markdown",
   "id": "5ca0c0e1",
   "metadata": {},
   "source": [
    "# Exploratory Data Analysis"
   ]
  },
  {
   "cell_type": "code",
   "execution_count": 77,
   "id": "0f259384",
   "metadata": {},
   "outputs": [
    {
     "name": "stdout",
     "output_type": "stream",
     "text": [
      "['photo' 'video' 'GIF' 'audio']\n",
      "['negative' 'positive' 'neutral']\n",
      "['studying' 'healthy eating' 'dogs' 'public speaking' 'science' 'tennis'\n",
      " 'food' 'fitness' 'soccer' 'education' 'travel' 'veganism' 'cooking'\n",
      " 'technology' 'animals' 'culture']\n",
      "['disgust' 'dislike' 'scared' 'interested' 'peeking' 'cherish' 'hate'\n",
      " 'love' 'indifferent' 'super love' 'intrigued' 'worried' 'like' 'heart'\n",
      " 'want' 'adore']\n"
     ]
    }
   ],
   "source": [
    "print(final_data['Content_Type'].unique())\n",
    "print(final_data['Sentiment'].unique())\n",
    "print(final_data['Category'].unique())\n",
    "print(final_data['Reaction_Type'].unique())\n",
    "     "
   ]
  },
  {
   "cell_type": "code",
   "execution_count": 78,
   "id": "877c8fc6",
   "metadata": {},
   "outputs": [
    {
     "data": {
      "text/plain": [
       "Content_Type\n",
       "photo    6589\n",
       "video    6245\n",
       "GIF      6079\n",
       "audio    5660\n",
       "Name: count, dtype: int64"
      ]
     },
     "execution_count": 78,
     "metadata": {},
     "output_type": "execute_result"
    }
   ],
   "source": [
    "#Which content type received the most reactions?\n",
    "final_data['Content_Type'].value_counts()\n",
    "     "
   ]
  },
  {
   "cell_type": "markdown",
   "id": "aad76d35",
   "metadata": {},
   "source": [
    "# Top 5 Categories Analysis"
   ]
  },
  {
   "cell_type": "code",
   "execution_count": 65,
   "id": "b68ac38b",
   "metadata": {},
   "outputs": [
    {
     "data": {
      "text/plain": [
       "Category\n",
       "animals            1897\n",
       "science            1796\n",
       "healthy eating     1717\n",
       "food               1699\n",
       "technology         1698\n",
       "culture            1676\n",
       "cooking            1664\n",
       "travel             1647\n",
       "soccer             1457\n",
       "education          1433\n",
       "fitness            1395\n",
       "studying           1363\n",
       "dogs               1338\n",
       "tennis             1328\n",
       "veganism           1248\n",
       "public speaking    1217\n",
       "Name: count, dtype: int64"
      ]
     },
     "execution_count": 65,
     "metadata": {},
     "output_type": "execute_result"
    }
   ],
   "source": [
    "final_data['Category'].value_counts()\n"
   ]
  },
  {
   "cell_type": "code",
   "execution_count": 79,
   "id": "b9805c84",
   "metadata": {},
   "outputs": [
    {
     "name": "stdout",
     "output_type": "stream",
     "text": [
      "Category\n",
      "animals           1897\n",
      "science           1796\n",
      "healthy eating    1717\n",
      "food              1699\n",
      "technology        1698\n",
      "Name: count, dtype: int64\n"
     ]
    }
   ],
   "source": [
    "#Top 5 Categories\n",
    "category_count = final_data['Category'].value_counts().nlargest(5)\n",
    "print(category_count)"
   ]
  },
  {
   "cell_type": "markdown",
   "id": "9206f074",
   "metadata": {},
   "source": [
    "To determine the highest aggregate popularity for each category, we sum the values in the \"Score\" column for each category."
   ]
  },
  {
   "cell_type": "code",
   "execution_count": 80,
   "id": "f6484b37",
   "metadata": {},
   "outputs": [
    {
     "data": {
      "text/html": [
       "<div>\n",
       "<style scoped>\n",
       "    .dataframe tbody tr th:only-of-type {\n",
       "        vertical-align: middle;\n",
       "    }\n",
       "\n",
       "    .dataframe tbody tr th {\n",
       "        vertical-align: top;\n",
       "    }\n",
       "\n",
       "    .dataframe thead th {\n",
       "        text-align: right;\n",
       "    }\n",
       "</style>\n",
       "<table border=\"1\" class=\"dataframe\">\n",
       "  <thead>\n",
       "    <tr style=\"text-align: right;\">\n",
       "      <th></th>\n",
       "      <th>Content ID</th>\n",
       "      <th>Content_Type</th>\n",
       "      <th>Reaction_Type</th>\n",
       "      <th>Sentiment</th>\n",
       "      <th>Score</th>\n",
       "    </tr>\n",
       "    <tr>\n",
       "      <th>Category</th>\n",
       "      <th></th>\n",
       "      <th></th>\n",
       "      <th></th>\n",
       "      <th></th>\n",
       "      <th></th>\n",
       "    </tr>\n",
       "  </thead>\n",
       "  <tbody>\n",
       "    <tr>\n",
       "      <th>animals</th>\n",
       "      <td>4fa14453-7b29-4302-b51f-9aa23b472c1b4478d98e-4...</td>\n",
       "      <td>audioaudiophotophotophotophotophotovideovideov...</td>\n",
       "      <td>disgustdisgustdisgustdisgustdisgustdisgustdisg...</td>\n",
       "      <td>negativenegativenegativenegativenegativenegati...</td>\n",
       "      <td>74965</td>\n",
       "    </tr>\n",
       "    <tr>\n",
       "      <th>science</th>\n",
       "      <td>5118e9c5-1377-4cc5-a486-65b35b7b7b7634a3747a-0...</td>\n",
       "      <td>GIFGIFGIFvideovideovideovideovideoaudioaudioau...</td>\n",
       "      <td>disgustdisgustdisgustdisgustdisgustdisgustdisg...</td>\n",
       "      <td>negativenegativenegativenegativenegativenegati...</td>\n",
       "      <td>71168</td>\n",
       "    </tr>\n",
       "    <tr>\n",
       "      <th>healthy eating</th>\n",
       "      <td>9f737e0a-3cdd-4d29-9d24-753f4e3be810230c4e4d-7...</td>\n",
       "      <td>photophotophotoGIFGIFGIFGIFGIFGIFGIFGIFGIFGIFv...</td>\n",
       "      <td>disgustdisgustdisgustdisgustdisgustdisgustdisg...</td>\n",
       "      <td>negativenegativenegativenegativenegativenegati...</td>\n",
       "      <td>69339</td>\n",
       "    </tr>\n",
       "    <tr>\n",
       "      <th>technology</th>\n",
       "      <td>49367a0f-1fd5-4417-a7c9-4a154e1ae0ad49367a0f-1...</td>\n",
       "      <td>photophotovideovideovideoGIFaudioaudioaudioaud...</td>\n",
       "      <td>disgustdisgustdisgustdisgustdisgustdisgustdisg...</td>\n",
       "      <td>negativenegativenegativenegativenegativenegati...</td>\n",
       "      <td>68738</td>\n",
       "    </tr>\n",
       "    <tr>\n",
       "      <th>food</th>\n",
       "      <td>81abd65a-3b76-4574-a0a7-db6bf7184ae281abd65a-3...</td>\n",
       "      <td>videovideovideovideovideovideovideovideovideoa...</td>\n",
       "      <td>disgustdisgustdisgustdisgustdisgustdisgustdisg...</td>\n",
       "      <td>negativenegativenegativenegativenegativenegati...</td>\n",
       "      <td>66676</td>\n",
       "    </tr>\n",
       "  </tbody>\n",
       "</table>\n",
       "</div>"
      ],
      "text/plain": [
       "                                                       Content ID  \\\n",
       "Category                                                            \n",
       "animals         4fa14453-7b29-4302-b51f-9aa23b472c1b4478d98e-4...   \n",
       "science         5118e9c5-1377-4cc5-a486-65b35b7b7b7634a3747a-0...   \n",
       "healthy eating  9f737e0a-3cdd-4d29-9d24-753f4e3be810230c4e4d-7...   \n",
       "technology      49367a0f-1fd5-4417-a7c9-4a154e1ae0ad49367a0f-1...   \n",
       "food            81abd65a-3b76-4574-a0a7-db6bf7184ae281abd65a-3...   \n",
       "\n",
       "                                                     Content_Type  \\\n",
       "Category                                                            \n",
       "animals         audioaudiophotophotophotophotophotovideovideov...   \n",
       "science         GIFGIFGIFvideovideovideovideovideoaudioaudioau...   \n",
       "healthy eating  photophotophotoGIFGIFGIFGIFGIFGIFGIFGIFGIFGIFv...   \n",
       "technology      photophotovideovideovideoGIFaudioaudioaudioaud...   \n",
       "food            videovideovideovideovideovideovideovideovideoa...   \n",
       "\n",
       "                                                    Reaction_Type  \\\n",
       "Category                                                            \n",
       "animals         disgustdisgustdisgustdisgustdisgustdisgustdisg...   \n",
       "science         disgustdisgustdisgustdisgustdisgustdisgustdisg...   \n",
       "healthy eating  disgustdisgustdisgustdisgustdisgustdisgustdisg...   \n",
       "technology      disgustdisgustdisgustdisgustdisgustdisgustdisg...   \n",
       "food            disgustdisgustdisgustdisgustdisgustdisgustdisg...   \n",
       "\n",
       "                                                        Sentiment  Score  \n",
       "Category                                                                  \n",
       "animals         negativenegativenegativenegativenegativenegati...  74965  \n",
       "science         negativenegativenegativenegativenegativenegati...  71168  \n",
       "healthy eating  negativenegativenegativenegativenegativenegati...  69339  \n",
       "technology      negativenegativenegativenegativenegativenegati...  68738  \n",
       "food            negativenegativenegativenegativenegativenegati...  66676  "
      ]
     },
     "execution_count": 80,
     "metadata": {},
     "output_type": "execute_result"
    }
   ],
   "source": [
    "top_five = final_data.groupby('Category').sum().sort_values(by='Score',ascending=False)\n",
    "top_five.head(5)\n",
    "     "
   ]
  },
  {
   "cell_type": "code",
   "execution_count": 85,
   "id": "72aa6156",
   "metadata": {},
   "outputs": [
    {
     "data": {
      "image/png": "[encoded data removed]",
      "text/plain": [
       "<Figure size 1000x600 with 1 Axes>"
      ]
     },
     "metadata": {},
     "output_type": "display_data"
    }
   ],
   "source": [
    "final_data = top_five.head(5)\n",
    "\n",
    "plt.figure(figsize=(10, 6))\n",
    "ax = sns.barplot(x=final_data.index, y='Score', data=final_data)\n",
    "\n",
    "# Adding annotations\n",
    "for p in ax.patches:\n",
    "    ax.annotate(f'{p.get_height():.2f}', (p.get_x() + p.get_width() / 2., p.get_height()),\n",
    "                ha='center', va='center', xytext=(0, 10), textcoords='offset points')\n",
    "\n",
    "plt.title('Top 5 Categories by \"Popularity\" score')\n",
    "plt.xlabel('Categories')\n",
    "plt.ylabel('Total Score')\n",
    "plt.show()"
   ]
  },
  {
   "cell_type": "markdown",
   "id": "50bf9a7b",
   "metadata": {},
   "source": [
    "Based on the chart, the top 5 categories are: Animal, Healthy Eating, Technology, Science, and Cooking. Among these, the top category is Animal."
   ]
  },
  {
   "cell_type": "code",
   "execution_count": 91,
   "id": "e8731427",
   "metadata": {},
   "outputs": [
    {
     "data": {
      "image/png": "[encoded data removed]",
      "text/plain": [
       "<Figure size 600x1000 with 1 Axes>"
      ]
     },
     "metadata": {},
     "output_type": "display_data"
    }
   ],
   "source": [
    "data = {'Category': ['animals', 'science', 'healthy eating', 'technology', 'food'],\n",
    "        'Score': [74965, 71168, 69339, 68738, 66676]}\n",
    "final_data = pd.DataFrame(data)\n",
    "final_data_sorted = final_data.sort_values(by='Score', ascending=False)\n",
    "\n",
    "top_five_categories = final_data_sorted.head(5)\n",
    "\n",
    "final_data = top_five_categories.copy()\n",
    "\n",
    "final_data.loc[:, 'Percentage Share'] = (final_data['Score'] / final_data['Score'].sum()) * 100\n",
    "\n",
    "plt.figure(figsize=(6, 10))\n",
    "plt.pie(final_data['Percentage Share'], labels=final_data['Category'], autopct='%1.2f%%', startangle=90, counterclock=False)\n",
    "\n",
    "plt.title('Percentage Share of Scores for Top 5 Categories')\n",
    "plt.show()\n",
    "     \n"
   ]
  }
 ],
 "metadata": {
  "kernelspec": {
   "display_name": "Python 3 (ipykernel)",
   "language": "python",
   "name": "python3"
  },
  "language_info": {
   "codemirror_mode": {
    "name": "ipython",
    "version": 3
   },
   "file_extension": ".py",
   "mimetype": "text/x-python",
   "name": "python",
   "nbconvert_exporter": "python",
   "pygments_lexer": "ipython3",
   "version": "3.11.5"
  }
 },
 "nbformat": 4,
 "nbformat_minor": 5
}
